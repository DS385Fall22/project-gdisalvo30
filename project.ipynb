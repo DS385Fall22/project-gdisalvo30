{
 "cells": [
  {
   "cell_type": "markdown",
   "id": "48cc9dda-2209-44e4-b28f-ca8d951a46be",
   "metadata": {
    "tags": []
   },
   "source": [
    "# Ctypes"
   ]
  },
  {
   "cell_type": "markdown",
   "id": "0e990424-a31f-40af-8772-8ee590924372",
   "metadata": {},
   "source": [
    "A way to implement C code in python!"
   ]
  },
  {
   "cell_type": "code",
   "execution_count": 67,
   "id": "b6bca438-898b-4cf1-a44e-b70d72e9903a",
   "metadata": {},
   "outputs": [],
   "source": [
    "import ctypes\n",
    "import os"
   ]
  },
  {
   "cell_type": "markdown",
   "id": "661fcce7-7d63-41f8-87ab-f86b7d58dd9d",
   "metadata": {},
   "source": [
    "### compiling for c sharp: gcc -shared -fPIC -o functionslib.so functions.c"
   ]
  },
  {
   "cell_type": "markdown",
   "id": "84de4b9f-03ce-4ef2-b1ea-5ac5654d2c17",
   "metadata": {},
   "source": [
    "### Load the shared library"
   ]
  },
  {
   "cell_type": "code",
   "execution_count": 68,
   "id": "94f8fde8-9f6e-4cce-a5ab-bee70ae3bede",
   "metadata": {},
   "outputs": [],
   "source": [
    "path = os.getcwd()\n",
    "functionslib = ctypes.CDLL(os.path.join(path, 'functionslib.so'))"
   ]
  },
  {
   "cell_type": "code",
   "execution_count": 69,
   "id": "d8bee501-7fb9-4de1-884d-f08e22040605",
   "metadata": {},
   "outputs": [
    {
     "data": {
      "text/plain": [
       "4"
      ]
     },
     "execution_count": 69,
     "metadata": {},
     "output_type": "execute_result"
    }
   ],
   "source": [
    "functionslib.add2.argtypes = [ctypes.c_int]\n",
    "functionslib.add2.restype = ctypes.c_int\n",
    "functionslib.add2(2)"
   ]
  },
  {
   "cell_type": "markdown",
   "id": "969f4e5f-20ce-4e73-9088-1f917db4be4b",
   "metadata": {},
   "source": [
    "Windows loading of library"
   ]
  },
  {
   "cell_type": "code",
   "execution_count": 70,
   "id": "bd4d6892-835b-452e-9f41-35f7187759de",
   "metadata": {},
   "outputs": [],
   "source": [
    "#functionslib = ctypes.WinDLL(\"C:\\\\wsl\\\\final presentation\\\\project-gdisalvo30\\\\functionslib.dll\")"
   ]
  },
  {
   "cell_type": "markdown",
   "id": "cfafa676-0e2f-4ace-af64-3d18de96676b",
   "metadata": {},
   "source": [
    "## We can also make code work from c++!"
   ]
  },
  {
   "cell_type": "code",
   "execution_count": 71,
   "id": "c2f1814d-0e1e-40ca-a821-71fd31ae7e1c",
   "metadata": {},
   "outputs": [],
   "source": [
    "cpluspluslib = ctypes.CDLL(os.path.join(path, 'ccpluslib.so'))"
   ]
  },
  {
   "cell_type": "code",
   "execution_count": 72,
   "id": "de049a1a-b347-4e62-b784-b93a47c285e0",
   "metadata": {},
   "outputs": [
    {
     "data": {
      "text/plain": [
       "9"
      ]
     },
     "execution_count": 72,
     "metadata": {},
     "output_type": "execute_result"
    }
   ],
   "source": [
    "cpluspluslib.multiplybythree.argtypes = [ctypes.c_int]\n",
    "cpluspluslib.multiplybythree.restype = ctypes.c_int\n",
    "cpluspluslib.multiplybythree(3)"
   ]
  },
  {
   "cell_type": "markdown",
   "id": "7eb745c6-7a25-4c66-9818-38468bda4879",
   "metadata": {},
   "source": [
    "### Must include extern \"C\" {} in order for C++ code to work within the C++, it is okay to use the same ctypes"
   ]
  },
  {
   "cell_type": "markdown",
   "id": "024c992b-cff6-4a52-85d5-4766c1142439",
   "metadata": {},
   "source": [
    "### compile with: g++ -fPIC -shared -o ccpluslib.so cplusfunctions.cpp"
   ]
  },
  {
   "cell_type": "markdown",
   "id": "dce87ee7-799f-45b9-8cf0-96dd3cd4723f",
   "metadata": {},
   "source": [
    "### making a struct for our online mean function to be used by our code in C"
   ]
  },
  {
   "cell_type": "code",
   "execution_count": 73,
   "id": "b5b861cf-3eba-42f7-bc0e-fb5f466475f5",
   "metadata": {},
   "outputs": [],
   "source": [
    "class OnlineMeanVar(ctypes.Structure):\n",
    "    _fields_ = [(\"meanA\", ctypes.c_double),\n",
    "               (\"vari\", ctypes.c_double),\n",
    "               (\"countof\", ctypes.c_double),\n",
    "               (\"M2\", ctypes.c_double)]"
   ]
  },
  {
   "cell_type": "markdown",
   "id": "70ea5127-5469-401d-8365-932ec962fa5d",
   "metadata": {},
   "source": [
    "instantiating our variable"
   ]
  },
  {
   "cell_type": "code",
   "execution_count": 74,
   "id": "7f822e92-9533-4790-a0f7-c11168396aa2",
   "metadata": {},
   "outputs": [],
   "source": [
    "omv = OnlineMeanVar(0.0, 0.0, 0.0, 0.0)"
   ]
  },
  {
   "cell_type": "code",
   "execution_count": 75,
   "id": "7480d21b-4e3a-4bff-85ac-8efd9ea578b2",
   "metadata": {},
   "outputs": [],
   "source": [
    "functionslib.Update.argtypes = [ctypes.c_double]\n",
    "functionslib.Update.restype = ctypes.POINTER(OnlineMeanVar)"
   ]
  },
  {
   "cell_type": "markdown",
   "id": "9193aa26-f77e-45b1-87cd-904b48559ffa",
   "metadata": {},
   "source": [
    "Bug here, not sure why but cannot perform more than one update? Kernel crash."
   ]
  },
  {
   "cell_type": "code",
   "execution_count": 76,
   "id": "d0b14667-b8fa-4e41-a8c4-861e1544361c",
   "metadata": {},
   "outputs": [],
   "source": [
    "omv = functionslib.Update(1, omv)"
   ]
  },
  {
   "cell_type": "code",
   "execution_count": 77,
   "id": "8790eec9-7142-41d5-8f71-08cdff48a062",
   "metadata": {},
   "outputs": [],
   "source": [
    "#omv = functionslib.Update(0, omv)"
   ]
  },
  {
   "cell_type": "code",
   "execution_count": 78,
   "id": "fd9451b1-0aa8-4bd8-aa5d-1226c63ea13e",
   "metadata": {},
   "outputs": [
    {
     "data": {
      "text/plain": [
       "1.0"
      ]
     },
     "execution_count": 78,
     "metadata": {},
     "output_type": "execute_result"
    }
   ],
   "source": [
    "omv.contents.meanA"
   ]
  },
  {
   "cell_type": "markdown",
   "id": "3aeeacbd-1e12-4d69-b2f3-d2fa2415bda7",
   "metadata": {},
   "source": [
    "Here is python version of it, (was thinking of comparing run times after I was done ironing the bug)"
   ]
  },
  {
   "cell_type": "code",
   "execution_count": 79,
   "id": "421687c6-9fa8-4002-8617-da07ff63bf9e",
   "metadata": {},
   "outputs": [],
   "source": [
    "import numpy as np\n",
    "class OnlineMeanVar2():\n",
    "    def __init__(self):\n",
    "        self.meanA = 0.0\n",
    "        self.vari = 0.0\n",
    "        self.countof = 0\n",
    "        self.M2 = 0.0\n",
    "    \n",
    "    def update(self, newValue):\n",
    "                self.countof += 1\n",
    "                delta = newValue - self.meanA\n",
    "                self.meanA += delta / self.countof\n",
    "                delta2 = newValue - self.meanA\n",
    "                self.M2 += delta * delta2\n",
    "                \n",
    "    def mean(self):\n",
    "        return self.meanA\n",
    "    \n",
    "    def var(self):\n",
    "        return (self.M2 / self.countof)\n",
    "        \n",
    "    def count(self):\n",
    "        return self.countof"
   ]
  },
  {
   "cell_type": "code",
   "execution_count": 80,
   "id": "244efdd2-5bdc-44ef-b2f1-927409fa6867",
   "metadata": {},
   "outputs": [],
   "source": [
    "omv2 = OnlineMeanVar2()\n",
    "omv2.update(1)"
   ]
  },
  {
   "cell_type": "code",
   "execution_count": 81,
   "id": "5b3c5b67-02dd-4487-856e-d495591cae9d",
   "metadata": {},
   "outputs": [
    {
     "data": {
      "text/plain": [
       "1.0"
      ]
     },
     "execution_count": 81,
     "metadata": {},
     "output_type": "execute_result"
    }
   ],
   "source": [
    "omv2.meanA"
   ]
  },
  {
   "cell_type": "markdown",
   "id": "ce5d51ea-d499-45be-8718-060c98563032",
   "metadata": {},
   "source": [
    "## Real Performance Numbers"
   ]
  },
  {
   "cell_type": "code",
   "execution_count": 82,
   "id": "a5f66ea1-6db2-48ac-a6c3-12b2ab155fcc",
   "metadata": {},
   "outputs": [],
   "source": [
    "import timeit\n",
    "import time"
   ]
  },
  {
   "cell_type": "code",
   "execution_count": 83,
   "id": "ef3aa762-6dec-471b-9d63-0ab0b35dcbfe",
   "metadata": {},
   "outputs": [],
   "source": [
    "functionslib.multiplicativescience.restype = ctypes.c_double\n",
    "somenumber = functionslib.multiplicativescience()"
   ]
  },
  {
   "cell_type": "code",
   "execution_count": 84,
   "id": "c6e19116-4ad6-4a5d-b53e-494d0a412bb5",
   "metadata": {},
   "outputs": [
    {
     "data": {
      "text/plain": [
       "45015000.0"
      ]
     },
     "execution_count": 84,
     "metadata": {},
     "output_type": "execute_result"
    }
   ],
   "source": [
    "somenumber"
   ]
  },
  {
   "cell_type": "markdown",
   "id": "b8bfa958-6958-4fba-9d06-c49bcab16c30",
   "metadata": {},
   "source": [
    "Number in timeit function is how many times to run the function (both are 100 million to emphasize difference of time but are still relative in smaller amount of times ran)"
   ]
  },
  {
   "cell_type": "code",
   "execution_count": 90,
   "id": "bd80365d-1a71-45c2-8da2-cc80849be190",
   "metadata": {},
   "outputs": [],
   "source": [
    "csharptime = (timeit.Timer(functionslib.multiplicativescience).timeit(number=100000000))"
   ]
  },
  {
   "cell_type": "markdown",
   "id": "12ef0d01-57b4-4b97-876e-5c04677af2f2",
   "metadata": {},
   "source": [
    "making the same function in python"
   ]
  },
  {
   "cell_type": "code",
   "execution_count": 86,
   "id": "175a573c-ea10-4f01-8cdf-1c3b1d597d7f",
   "metadata": {},
   "outputs": [],
   "source": [
    "def multiplicativepython():\n",
    "    x = 0.0\n",
    "    while x < 10000000:\n",
    "        x = x + 5\n",
    "        x = x * 1000\n",
    "        x = x * 3\n",
    "    return x"
   ]
  },
  {
   "cell_type": "code",
   "execution_count": 88,
   "id": "81a7ab1a-3501-4b2c-85fd-a2bc25e81bf7",
   "metadata": {},
   "outputs": [
    {
     "data": {
      "text/plain": [
       "45015000.0"
      ]
     },
     "execution_count": 88,
     "metadata": {},
     "output_type": "execute_result"
    }
   ],
   "source": [
    "anothernumber = multiplicativepython()\n",
    "anothernumber"
   ]
  },
  {
   "cell_type": "code",
   "execution_count": 91,
   "id": "b19107f7-bcb9-4245-ad9f-e98d36108160",
   "metadata": {},
   "outputs": [],
   "source": [
    "pythontime = (timeit.Timer(multiplicativepython).timeit(number=100000000))"
   ]
  },
  {
   "cell_type": "markdown",
   "id": "436bc84a-f32d-4eac-be0c-bc8b53b0d1df",
   "metadata": {},
   "source": [
    "Code in C runtime:"
   ]
  },
  {
   "cell_type": "code",
   "execution_count": 92,
   "id": "3260fb9c-e1b8-47e7-95df-10cbc42eff94",
   "metadata": {},
   "outputs": [
    {
     "data": {
      "text/plain": [
       "6.733832755000549"
      ]
     },
     "execution_count": 92,
     "metadata": {},
     "output_type": "execute_result"
    }
   ],
   "source": [
    "csharptime"
   ]
  },
  {
   "cell_type": "markdown",
   "id": "4b998cf2-81eb-4dea-8004-ac59745b52d7",
   "metadata": {},
   "source": [
    "Code in Python runtime:"
   ]
  },
  {
   "cell_type": "code",
   "execution_count": 93,
   "id": "4c2f9447-50e1-45e2-ad65-19320cd4174f",
   "metadata": {},
   "outputs": [
    {
     "data": {
      "text/plain": [
       "12.889303706000646"
      ]
     },
     "execution_count": 93,
     "metadata": {},
     "output_type": "execute_result"
    }
   ],
   "source": [
    "pythontime"
   ]
  },
  {
   "cell_type": "code",
   "execution_count": 94,
   "id": "f7686485-8c76-4287-9228-a17c18a7e8f5",
   "metadata": {},
   "outputs": [
    {
     "data": {
      "text/plain": [
       "1.9141110530891996"
      ]
     },
     "execution_count": 94,
     "metadata": {},
     "output_type": "execute_result"
    }
   ],
   "source": [
    "pythontime / csharptime"
   ]
  },
  {
   "cell_type": "markdown",
   "id": "6d5120f9-8af8-4c32-bc4f-ee43c264fdc8",
   "metadata": {},
   "source": [
    "This means that the code that was written in C, was roughly 191% faster in comparison to the code that was written in python."
   ]
  }
 ],
 "metadata": {
  "kernelspec": {
   "display_name": "Python 3 (ipykernel)",
   "language": "python",
   "name": "python3"
  },
  "language_info": {
   "codemirror_mode": {
    "name": "ipython",
    "version": 3
   },
   "file_extension": ".py",
   "mimetype": "text/x-python",
   "name": "python",
   "nbconvert_exporter": "python",
   "pygments_lexer": "ipython3",
   "version": "3.8.15"
  }
 },
 "nbformat": 4,
 "nbformat_minor": 5
}
